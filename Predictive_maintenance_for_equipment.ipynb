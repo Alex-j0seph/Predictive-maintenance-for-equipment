{
  "nbformat": 4,
  "nbformat_minor": 0,
  "metadata": {
    "colab": {
      "provenance": []
    },
    "kernelspec": {
      "name": "python3",
      "display_name": "Python 3"
    },
    "language_info": {
      "name": "python"
    }
  },
  "cells": [
    {
      "cell_type": "code",
      "source": [
        "# Import necessary libraries\n",
        "import pandas as pd\n",
        "from sklearn.model_selection import train_test_split\n",
        "from sklearn.ensemble import RandomForestClassifier\n",
        "from sklearn.metrics import accuracy_score, classification_report\n",
        "from sklearn.preprocessing import LabelEncoder\n",
        "from sklearn.impute import SimpleImputer"
      ],
      "metadata": {
        "id": "oe39Zl5__J3g"
      },
      "execution_count": 1,
      "outputs": []
    },
    {
      "cell_type": "code",
      "source": [
        "# Load the dataset\n",
        "dataset = pd.read_csv('predictive_maintenance.csv')"
      ],
      "metadata": {
        "id": "Kwk0JwsB_J0o"
      },
      "execution_count": 2,
      "outputs": []
    },
    {
      "cell_type": "code",
      "source": [
        "# Display the first few rows of the dataset for analysis\n",
        "print(\"Dataset Overview:\")\n",
        "print(dataset.head())"
      ],
      "metadata": {
        "id": "Zvc1PmUA_Jyk",
        "colab": {
          "base_uri": "https://localhost:8080/"
        },
        "outputId": "478b8203-e2cd-4f2b-bfb3-2efb4d507851"
      },
      "execution_count": 3,
      "outputs": [
        {
          "output_type": "stream",
          "name": "stdout",
          "text": [
            "Dataset Overview:\n",
            "   UDI Product ID Type  Air temperature [K]  Process temperature [K]  \\\n",
            "0    1     M14860    M                298.1                    308.6   \n",
            "1    2     L47181    L                298.2                    308.7   \n",
            "2    3     L47182    L                298.1                    308.5   \n",
            "3    4     L47183    L                298.2                    308.6   \n",
            "4    5     L47184    L                298.2                    308.7   \n",
            "\n",
            "   Rotational speed [rpm]  Torque [Nm]  Tool wear [min]  Target Failure Type  \n",
            "0                    1551         42.8                0       0   No Failure  \n",
            "1                    1408         46.3                3       0   No Failure  \n",
            "2                    1498         49.4                5       0   No Failure  \n",
            "3                    1433         39.5                7       0   No Failure  \n",
            "4                    1408         40.0                9       0   No Failure  \n"
          ]
        }
      ]
    },
    {
      "cell_type": "code",
      "source": [
        "# Check for missing values\n",
        "print(\"\\nMissing Values:\")\n",
        "print(dataset.isnull().sum())"
      ],
      "metadata": {
        "id": "cl_9tZ96_Jvr",
        "colab": {
          "base_uri": "https://localhost:8080/"
        },
        "outputId": "7bfd5011-03f7-4808-8879-b32d65fe7589"
      },
      "execution_count": 4,
      "outputs": [
        {
          "output_type": "stream",
          "name": "stdout",
          "text": [
            "\n",
            "Missing Values:\n",
            "UDI                        0\n",
            "Product ID                 0\n",
            "Type                       0\n",
            "Air temperature [K]        0\n",
            "Process temperature [K]    0\n",
            "Rotational speed [rpm]     0\n",
            "Torque [Nm]                0\n",
            "Tool wear [min]            0\n",
            "Target                     0\n",
            "Failure Type               0\n",
            "dtype: int64\n"
          ]
        }
      ]
    },
    {
      "cell_type": "code",
      "source": [
        "# Encode categorical variables if there are any\n",
        "label_encoder = LabelEncoder()\n",
        "categorical_columns = ['Product ID', 'Type', 'UDI']  # Add other categorical columns if needed\n",
        "\n",
        "for col in categorical_columns:\n",
        "    dataset[col] = label_encoder.fit_transform(dataset[col])\n",
        "\n",
        "# Data preprocessing\n",
        "X = dataset.drop(['UDI', 'Target', 'Failure Type'], axis=1)  # Features\n",
        "y = dataset['Target']  # Target variable\n",
        "\n",
        "# Split the dataset into training and testing sets\n",
        "X_train, X_test, y_train, y_test = train_test_split(X, y, test_size=0.2, random_state=42)\n",
        "\n",
        "# Initialize the model (Random Forest Classifier in this case)\n",
        "model = RandomForestClassifier(n_estimators=100, random_state=42)\n",
        "\n",
        "# Train the model\n",
        "model.fit(X_train, y_train)\n",
        "\n",
        "# Make predictions on the test set\n",
        "predictions = model.predict(X_test)\n",
        "\n",
        "# Evaluate the model\n",
        "accuracy = accuracy_score(y_test, predictions)\n",
        "report = classification_report(y_test, predictions)\n",
        "\n",
        "print(f\"\\nAccuracy: {accuracy}\")\n",
        "print(\"Classification Report:\")\n",
        "print(report)"
      ],
      "metadata": {
        "id": "4G0sY41V_JtF",
        "colab": {
          "base_uri": "https://localhost:8080/"
        },
        "outputId": "22833aa8-c600-4d42-8258-02348d2626d9"
      },
      "execution_count": 5,
      "outputs": [
        {
          "output_type": "stream",
          "name": "stdout",
          "text": [
            "\n",
            "Accuracy: 0.984\n",
            "Classification Report:\n",
            "              precision    recall  f1-score   support\n",
            "\n",
            "           0       0.99      1.00      0.99      1939\n",
            "           1       0.81      0.62      0.70        61\n",
            "\n",
            "    accuracy                           0.98      2000\n",
            "   macro avg       0.90      0.81      0.85      2000\n",
            "weighted avg       0.98      0.98      0.98      2000\n",
            "\n"
          ]
        }
      ]
    }
  ]
}